{
 "cells": [
  {
   "cell_type": "markdown",
   "id": "69821a37-44de-4b76-a98d-1a84c35b8108",
   "metadata": {},
   "source": [
    "# Data Science Tools and Ecosystem"
   ]
  },
  {
   "cell_type": "markdown",
   "id": "669e1122-06fa-4dbd-8a2d-3c2867f33c3e",
   "metadata": {},
   "source": [
    "In this notebook, Data Science Tools and Ecosystem are summarized."
   ]
  },
  {
   "cell_type": "markdown",
   "id": "624ed3b7-0e92-4371-9ab8-5d4f373a5ac5",
   "metadata": {},
   "source": [
    "**Objectives:**\n",
    "\n",
    "- List popular languages for Data Science  \n",
    "- Explore common libraries used in Data Science  \n",
    "- Demonstrate basic arithmetic expressions in Python  \n",
    "- Convert time units using Python expressions  \n",
    "- Create and format Markdown and Code cells in Jupyter Notebook  \n"
   ]
  },
  {
   "cell_type": "markdown",
   "id": "55b40f16-ae6f-4506-8bd7-2bf2d577bf36",
   "metadata": {},
   "source": [
    "Some of the popular languages that Data Scientists use are:\n",
    "1. Python\n",
    "2. R\n",
    "3. SQL"
   ]
  },
  {
   "cell_type": "markdown",
   "id": "53f20564-b523-48b5-848e-b0a1cdc198f1",
   "metadata": {},
   "source": [
    "Some of the commonly used libraries used by Data Scientists include:\n",
    "1. plotly\n",
    "2. ggplot\n",
    "3. scikit-learn"
   ]
  },
  {
   "cell_type": "markdown",
   "id": "b68073de-4d08-46d5-a518-7549ec55e7c5",
   "metadata": {},
   "source": [
    "| Data Science Tools |\n",
    "|--------------------|\n",
    "| Jupyter Notebook  |\n",
    "| RStudio          |\n",
    "| Spyder           |\n"
   ]
  },
  {
   "cell_type": "markdown",
   "id": "e8f018bc-bd05-4952-8e66-136345391373",
   "metadata": {},
   "source": [
    "### Below are a few examples of evaluating arithmetic expressions in Python\n",
    "\n",
    "Here are some basic arithmetic operations in Python:\n",
    "\n",
    "- **Addition (+):** `3 + 5 = 8`\n",
    "- **Subtraction (-):** `10 - 4 = 6`\n",
    "- **Multiplication (*):** `6 * 7 = 42`\n",
    "- **Division (/):** `20 / 5 = 4.0`\n",
    "- **Exponentiation (**):** `2 ** 3 = 8`\n",
    "- **Modulus (%):** `10 % 3 = 1`\n",
    "- **Floor Division (//):** `10 // 3 = 3`\n"
   ]
  },
  {
   "cell_type": "code",
   "execution_count": 21,
   "id": "fe08d2a7-1ed6-4653-b30e-87ece5607768",
   "metadata": {},
   "outputs": [
    {
     "name": "stdout",
     "output_type": "stream",
     "text": [
      "17\n"
     ]
    }
   ],
   "source": [
    "# This is a simple arithmetic expression to multiply then add integers.\n",
    "result = (3 * 4) + 5\n",
    "print(result)  # Output: 17\n"
   ]
  },
  {
   "cell_type": "code",
   "execution_count": 23,
   "id": "1cf7e023-b6cd-4893-bd9a-88c8ee097767",
   "metadata": {},
   "outputs": [
    {
     "name": "stdout",
     "output_type": "stream",
     "text": [
      "3.3333333333333335\n"
     ]
    }
   ],
   "source": [
    "# This will convert 200 minutes to hours by dividing by 60.\n",
    "hours = 200 / 60\n",
    "print(hours)\n"
   ]
  },
  {
   "cell_type": "markdown",
   "id": "6c34a6e9-3d34-4d03-bfd7-2552f2248013",
   "metadata": {},
   "source": [
    "## Author  \n",
    "Talha Yiğit  \n"
   ]
  }
 ],
 "metadata": {
  "kernelspec": {
   "display_name": "Python [conda env:base] *",
   "language": "python",
   "name": "conda-base-py"
  },
  "language_info": {
   "codemirror_mode": {
    "name": "ipython",
    "version": 3
   },
   "file_extension": ".py",
   "mimetype": "text/x-python",
   "name": "python",
   "nbconvert_exporter": "python",
   "pygments_lexer": "ipython3",
   "version": "3.12.7"
  }
 },
 "nbformat": 4,
 "nbformat_minor": 5
}
